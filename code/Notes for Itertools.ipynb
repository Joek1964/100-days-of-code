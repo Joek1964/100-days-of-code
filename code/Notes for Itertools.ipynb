{
 "cells": [
  {
   "cell_type": "code",
   "execution_count": 8,
   "metadata": {},
   "outputs": [],
   "source": [
    "from itertools import permutations, product"
   ]
  },
  {
   "cell_type": "code",
   "execution_count": 9,
   "metadata": {},
   "outputs": [
    {
     "data": {
      "text/plain": [
       "[(1, 1), (1, 2), (2, 1), (2, 2), (3, 1), (3, 2)]"
      ]
     },
     "execution_count": 9,
     "metadata": {},
     "output_type": "execute_result"
    }
   ],
   "source": [
    "# cartesian products of two lists (iterators)\n",
    "list(product([1,2,3],[1,2]))\n",
    "\n",
    "# No so directly useful in my day to day work"
   ]
  },
  {
   "cell_type": "code",
   "execution_count": 10,
   "metadata": {},
   "outputs": [
    {
     "name": "stdout",
     "output_type": "stream",
     "text": [
      "[('a', 'b'), ('a', 'c'), ('b', 'a'), ('b', 'c'), ('c', 'a'), ('c', 'b')]\n"
     ]
    }
   ],
   "source": [
    "# creating permutation with number of elements\n",
    "print(list(permutations('abc',2)))"
   ]
  },
  {
   "cell_type": "code",
   "execution_count": 11,
   "metadata": {},
   "outputs": [
    {
     "name": "stdout",
     "output_type": "stream",
     "text": [
      "pqsrt 3\n",
      "pqr\n",
      "pqs\n",
      "pqt\n",
      "prq\n",
      "prs\n",
      "prt\n",
      "psq\n",
      "psr\n",
      "pst\n",
      "ptq\n",
      "ptr\n",
      "pts\n",
      "qpr\n",
      "qps\n",
      "qpt\n",
      "qrp\n",
      "qrs\n",
      "qrt\n",
      "qsp\n",
      "qsr\n",
      "qst\n",
      "qtp\n",
      "qtr\n",
      "qts\n",
      "rpq\n",
      "rps\n",
      "rpt\n",
      "rqp\n",
      "rqs\n",
      "rqt\n",
      "rsp\n",
      "rsq\n",
      "rst\n",
      "rtp\n",
      "rtq\n",
      "rts\n",
      "spq\n",
      "spr\n",
      "spt\n",
      "sqp\n",
      "sqr\n",
      "sqt\n",
      "srp\n",
      "srq\n",
      "srt\n",
      "stp\n",
      "stq\n",
      "str\n",
      "tpq\n",
      "tpr\n",
      "tps\n",
      "tqp\n",
      "tqr\n",
      "tqs\n",
      "trp\n",
      "trq\n",
      "trs\n",
      "tsp\n",
      "tsq\n",
      "tsr\n"
     ]
    }
   ],
   "source": [
    "# print all possible permutations of size  of the string in lexicographic sorted order.\n",
    "from itertools import permutations\n",
    "inp = input().split(' ')\n",
    "perms = (''.join(t) for t in permutations(sorted(inp[0]), int(inp[1])))\n",
    "print('\\n'.join(perms))"
   ]
  },
  {
   "cell_type": "code",
   "execution_count": null,
   "metadata": {},
   "outputs": [],
   "source": []
  }
 ],
 "metadata": {
  "kernelspec": {
   "display_name": "Python 3",
   "language": "python",
   "name": "python3"
  },
  "language_info": {
   "codemirror_mode": {
    "name": "ipython",
    "version": 3
   },
   "file_extension": ".py",
   "mimetype": "text/x-python",
   "name": "python",
   "nbconvert_exporter": "python",
   "pygments_lexer": "ipython3",
   "version": "3.4.6"
  }
 },
 "nbformat": 4,
 "nbformat_minor": 2
}
