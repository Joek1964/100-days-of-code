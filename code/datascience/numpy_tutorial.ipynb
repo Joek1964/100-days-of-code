{
 "cells": [
  {
   "cell_type": "markdown",
   "metadata": {},
   "source": [
    "## Numpy Learning\n",
    "\n",
    "This is my attempt to learn numpy from ground up instead of just learning on the go.\n",
    "\n",
    "\n",
    "### Notes\n",
    "\n",
    "[Beginning read](https://www.datacamp.com/community/tutorials/python-numpy-tutorial#gs.h3DvLnk)\n",
    "- numpy array is comparable to python lists. (Munpy = Numeric Python)\n",
    "- At structural level, an array is basically a combination of a memory address, a data type, a shape and strides.\n",
    "    - The strides are the number of bytes that should be skipped in memory to go to the next element. If your strides are (10,1), you need to proceed one byte to get to the next column and 10 bytes to locate the next row.\n",
    "- Axis numbering\n",
    "    - axis = 0 is rows\n",
    "    - axis = 1 is columns\n",
    "    - axis = 2 is the next dimension in 3d array (you get the idea)\n",
    "- There are different datatypes we can explicitly pass while creating `np.array`. [Reffer to this cheatsheet](https://s3.amazonaws.com/assets.datacamp.com/blog_assets/Numpy_Python_Cheat_Sheet.pdf)\n",
    "- to load data directly\n",
    "    - `genfromtxt()`\n",
    "    - `loadtxt()` (least preffered)\n",
    "    - or read pandas and convert to np array (imho)\n",
    "- Functions for IO are listed in [DOCs here](https://docs.scipy.org/doc/numpy/reference/routines.io.html)\n",
    "- When working with operations on datasets with different dimension, you have to use *Broadcasting*. Numpy Boradcasting\n",
    "\n",
    "\n"
   ]
  },
  {
   "cell_type": "code",
   "execution_count": 1,
   "metadata": {},
   "outputs": [],
   "source": [
    "import numpy as np"
   ]
  },
  {
   "cell_type": "code",
   "execution_count": 2,
   "metadata": {},
   "outputs": [
    {
     "name": "stdout",
     "output_type": "stream",
     "text": [
      "<memory at 0x111445cc8>\n",
      "(5,)\n",
      "int64\n",
      "(8,)\n"
     ]
    }
   ],
   "source": [
    "ar = np.array([1,2,3,4,5])\n",
    "# Print out memory address\n",
    "print(ar.data)\n",
    "\n",
    "# Print out the shape of `my_array`\n",
    "print(ar.shape)\n",
    "\n",
    "# Print out the data type of `my_array`\n",
    "print(ar.dtype)\n",
    "\n",
    "# Print out the stride of `my_array`\n",
    "print(ar.strides)"
   ]
  },
  {
   "cell_type": "code",
   "execution_count": 7,
   "metadata": {},
   "outputs": [
    {
     "name": "stdout",
     "output_type": "stream",
     "text": [
      "<memory at 0x111d3d110>\n",
      "(3,)\n",
      "|S6\n",
      "(6,)\n"
     ]
    }
   ],
   "source": [
    "st_ar = np.array(['aaasdf','ab','gdf'], dtype=np.string_)\n",
    "# Print out memory address\n",
    "print(st_ar.data)\n",
    "\n",
    "# Print out the shape of `my_array`\n",
    "print(st_ar.shape)\n",
    "\n",
    "# Print out the data type of `my_array`\n",
    "print(st_ar.dtype)\n",
    "\n",
    "# Print out the st. Note that it takes the bytes required to store the longest string\n",
    "print(st_ar.strides)"
   ]
  },
  {
   "cell_type": "code",
   "execution_count": 17,
   "metadata": {},
   "outputs": [
    {
     "data": {
      "text/plain": [
       "array([[[[b'1', b'1', b'1']],\n",
       "\n",
       "        [[b'1', b'1', b'1']],\n",
       "\n",
       "        [[b'1', b'1', b'1']]],\n",
       "\n",
       "\n",
       "       [[[b'1', b'1', b'1']],\n",
       "\n",
       "        [[b'1', b'1', b'1']],\n",
       "\n",
       "        [[b'1', b'1', b'1']]]], dtype='|S1')"
      ]
     },
     "execution_count": 17,
     "metadata": {},
     "output_type": "execute_result"
    }
   ],
   "source": [
    "np.ones((2,3,1,3),dtype=np.string_)"
   ]
  },
  {
   "cell_type": "code",
   "execution_count": 18,
   "metadata": {},
   "outputs": [
    {
     "data": {
      "text/plain": [
       "array([[7, 7],\n",
       "       [7, 7]])"
      ]
     },
     "execution_count": 18,
     "metadata": {},
     "output_type": "execute_result"
    }
   ],
   "source": [
    "np.full((2,2),7)"
   ]
  },
  {
   "cell_type": "code",
   "execution_count": 21,
   "metadata": {},
   "outputs": [
    {
     "data": {
      "text/plain": [
       "array([10, 15, 20, 25, 30, 35, 40, 45, 50, 55, 60])"
      ]
     },
     "execution_count": 21,
     "metadata": {},
     "output_type": "execute_result"
    }
   ],
   "source": [
    "# Create an array of evenly-spaced values like a range function\n",
    "np.arange(10,65,5)"
   ]
  },
  {
   "cell_type": "code",
   "execution_count": 24,
   "metadata": {},
   "outputs": [
    {
     "data": {
      "text/plain": [
       "array([1., 2., 3., 4., 5., 6., 7., 8., 9.])"
      ]
     },
     "execution_count": 24,
     "metadata": {},
     "output_type": "execute_result"
    }
   ],
   "source": [
    "# Create an array of evenly-spaced values\n",
    "np.linspace(1,9,9)"
   ]
  },
  {
   "cell_type": "code",
   "execution_count": 27,
   "metadata": {},
   "outputs": [
    {
     "data": {
      "text/plain": [
       "array([[1., 0., 0., 0., 0., 0.],\n",
       "       [0., 1., 0., 0., 0., 0.],\n",
       "       [0., 0., 1., 0., 0., 0.],\n",
       "       [0., 0., 0., 1., 0., 0.],\n",
       "       [0., 0., 0., 0., 1., 0.],\n",
       "       [0., 0., 0., 0., 0., 1.],\n",
       "       [0., 0., 0., 0., 0., 0.],\n",
       "       [0., 0., 0., 0., 0., 0.],\n",
       "       [0., 0., 0., 0., 0., 0.],\n",
       "       [0., 0., 0., 0., 0., 0.],\n",
       "       [0., 0., 0., 0., 0., 0.],\n",
       "       [0., 0., 0., 0., 0., 0.],\n",
       "       [0., 0., 0., 0., 0., 0.],\n",
       "       [0., 0., 0., 0., 0., 0.],\n",
       "       [0., 0., 0., 0., 0., 0.],\n",
       "       [0., 0., 0., 0., 0., 0.],\n",
       "       [0., 0., 0., 0., 0., 0.],\n",
       "       [0., 0., 0., 0., 0., 0.],\n",
       "       [0., 0., 0., 0., 0., 0.],\n",
       "       [0., 0., 0., 0., 0., 0.],\n",
       "       [0., 0., 0., 0., 0., 0.]])"
      ]
     },
     "execution_count": 27,
     "metadata": {},
     "output_type": "execute_result"
    }
   ],
   "source": [
    "np.eye(21,6)"
   ]
  },
  {
   "cell_type": "code",
   "execution_count": 39,
   "metadata": {},
   "outputs": [
    {
     "data": {
      "text/plain": [
       "array([[1., 0., 0., 0., 0., 0., 0., 0., 0., 0.],\n",
       "       [0., 1., 0., 0., 0., 0., 0., 0., 0., 0.],\n",
       "       [0., 0., 1., 0., 0., 0., 0., 0., 0., 0.],\n",
       "       [0., 0., 0., 1., 0., 0., 0., 0., 0., 0.],\n",
       "       [0., 0., 0., 0., 1., 0., 0., 0., 0., 0.],\n",
       "       [0., 0., 0., 0., 0., 1., 0., 0., 0., 0.],\n",
       "       [0., 0., 0., 0., 0., 0., 1., 0., 0., 0.],\n",
       "       [0., 0., 0., 0., 0., 0., 0., 1., 0., 0.],\n",
       "       [0., 0., 0., 0., 0., 0., 0., 0., 1., 0.],\n",
       "       [0., 0., 0., 0., 0., 0., 0., 0., 0., 1.]])"
      ]
     },
     "execution_count": 39,
     "metadata": {},
     "output_type": "execute_result"
    }
   ],
   "source": [
    "np.identity(10) "
   ]
  },
  {
   "cell_type": "markdown",
   "metadata": {},
   "source": [
    "**NOTE:** When working with larger dataset following functions can be handy to understand the limitations"
   ]
  },
  {
   "cell_type": "code",
   "execution_count": 42,
   "metadata": {},
   "outputs": [
    {
     "name": "stdout",
     "output_type": "stream",
     "text": [
      "1\n",
      "5\n",
      "  C_CONTIGUOUS : True\n",
      "  F_CONTIGUOUS : True\n",
      "  OWNDATA : True\n",
      "  WRITEABLE : True\n",
      "  ALIGNED : True\n",
      "  WRITEBACKIFCOPY : False\n",
      "  UPDATEIFCOPY : False\n",
      "8\n",
      "40\n"
     ]
    }
   ],
   "source": [
    "# Print the number of `my_array`'s dimensions\n",
    "print(ar.ndim)\n",
    "\n",
    "# Print the number of `my_array`'s elements\n",
    "print(ar.size)\n",
    "\n",
    "# Print information about `my_array`'s memory layout\n",
    "print(ar.flags)\n",
    "\n",
    "# Print the length of one array element in bytes\n",
    "print(ar.itemsize)\n",
    "\n",
    "# Print the total consumed bytes by `my_array`'s elements\n",
    "print(ar.nbytes)"
   ]
  },
  {
   "cell_type": "markdown",
   "metadata": {},
   "source": [
    "### NumPy Broadcasting \n",
    "\n",
    "(very important in practical datascience)"
   ]
  },
  {
   "cell_type": "code",
   "execution_count": null,
   "metadata": {},
   "outputs": [],
   "source": []
  }
 ],
 "metadata": {
  "kernelspec": {
   "display_name": "Python 3",
   "language": "python",
   "name": "python3"
  },
  "language_info": {
   "codemirror_mode": {
    "name": "ipython",
    "version": 3
   },
   "file_extension": ".py",
   "mimetype": "text/x-python",
   "name": "python",
   "nbconvert_exporter": "python",
   "pygments_lexer": "ipython3",
   "version": "3.4.6"
  }
 },
 "nbformat": 4,
 "nbformat_minor": 2
}
