{
 "cells": [
  {
   "cell_type": "markdown",
   "metadata": {},
   "source": [
    "## Numpy Learning\n",
    "\n",
    "This is my attempt to learn numpy from ground up instead of just learning on the go.\n",
    "\n",
    "\n",
    "### Notes\n",
    "\n",
    "[Beginning read](https://www.datacamp.com/community/tutorials/python-numpy-tutorial#gs.h3DvLnk)\n",
    "- numpy array is comparable to python lists. (Munpy = Numeric Python)\n",
    "- At structural level, an array is basically a combination of a memory address, a data type, a shape and strides.\n",
    "    - The strides are the number of bytes that should be skipped in memory to go to the next element. If your strides are (10,1), you need to proceed one byte to get to the next column and 10 bytes to locate the next row.\n",
    "- Axis numbering\n",
    "    - axis = 0 is rows\n",
    "    - axis = 1 is columns\n",
    "    - axis = 2 is the next dimension in 3d array (you get the idea)\n",
    "- There are different datatypes we can explicitly pass while creating `np.array`. [Reffer to this cheatsheet](https://s3.amazonaws.com/assets.datacamp.com/blog_assets/Numpy_Python_Cheat_Sheet.pdf)\n",
    "- to load data directly\n",
    "    - `genfromtxt()`\n",
    "    - `loadtxt()` (least preffered)\n",
    "    - or read pandas and convert to np array (imho)\n",
    "- Functions for IO are listed in [DOCs here](https://docs.scipy.org/doc/numpy/reference/routines.io.html)\n",
    "- When working with operations on datasets with different dimension, you have to use *Broadcasting*. Numpy Boradcasting\n",
    "\n",
    "\n"
   ]
  },
  {
   "cell_type": "code",
   "execution_count": 1,
   "metadata": {},
   "outputs": [],
   "source": [
    "import numpy as np"
   ]
  },
  {
   "cell_type": "code",
   "execution_count": 2,
   "metadata": {},
   "outputs": [
    {
     "name": "stdout",
     "output_type": "stream",
     "text": [
      "<memory at 0x102e0e9a8>\n",
      "(5,)\n",
      "int64\n",
      "(8,)\n"
     ]
    }
   ],
   "source": [
    "ar = np.array([1,2,3,4,5])\n",
    "# Print out memory address\n",
    "print(ar.data)\n",
    "\n",
    "# Print out the shape of `my_array`\n",
    "print(ar.shape)\n",
    "\n",
    "# Print out the data type of `my_array`\n",
    "print(ar.dtype)\n",
    "\n",
    "# Print out the stride of `my_array`\n",
    "print(ar.strides)"
   ]
  },
  {
   "cell_type": "code",
   "execution_count": 3,
   "metadata": {},
   "outputs": [
    {
     "name": "stdout",
     "output_type": "stream",
     "text": [
      "<memory at 0x102e0e9a8>\n",
      "(3,)\n",
      "|S6\n",
      "(6,)\n"
     ]
    }
   ],
   "source": [
    "st_ar = np.array(['aaasdf','ab','gdf'], dtype=np.string_)\n",
    "# Print out memory address\n",
    "print(st_ar.data)\n",
    "\n",
    "# Print out the shape of `my_array`\n",
    "print(st_ar.shape)\n",
    "\n",
    "# Print out the data type of `my_array`\n",
    "print(st_ar.dtype)\n",
    "\n",
    "# Print out the st. Note that it takes the bytes required to store the longest string\n",
    "print(st_ar.strides)"
   ]
  },
  {
   "cell_type": "code",
   "execution_count": 4,
   "metadata": {},
   "outputs": [
    {
     "data": {
      "text/plain": [
       "array([[[[b'1', b'1', b'1']],\n",
       "\n",
       "        [[b'1', b'1', b'1']],\n",
       "\n",
       "        [[b'1', b'1', b'1']]],\n",
       "\n",
       "\n",
       "       [[[b'1', b'1', b'1']],\n",
       "\n",
       "        [[b'1', b'1', b'1']],\n",
       "\n",
       "        [[b'1', b'1', b'1']]]], dtype='|S1')"
      ]
     },
     "execution_count": 4,
     "metadata": {},
     "output_type": "execute_result"
    }
   ],
   "source": [
    "np.ones((2,3,1,3),dtype=np.string_)"
   ]
  },
  {
   "cell_type": "code",
   "execution_count": 5,
   "metadata": {},
   "outputs": [
    {
     "data": {
      "text/plain": [
       "array([[7, 7],\n",
       "       [7, 7]])"
      ]
     },
     "execution_count": 5,
     "metadata": {},
     "output_type": "execute_result"
    }
   ],
   "source": [
    "np.full((2,2),7)"
   ]
  },
  {
   "cell_type": "code",
   "execution_count": 23,
   "metadata": {},
   "outputs": [
    {
     "ename": "TypeError",
     "evalue": "data type not understood",
     "output_type": "error",
     "traceback": [
      "\u001b[0;31m---------------------------------------------------------------------------\u001b[0m",
      "\u001b[0;31mTypeError\u001b[0m                                 Traceback (most recent call last)",
      "\u001b[0;32m<ipython-input-23-5e9a9ea60978>\u001b[0m in \u001b[0;36m<module>\u001b[0;34m()\u001b[0m\n\u001b[1;32m      1\u001b[0m \u001b[0;31m# Create an array of evenly-spaced values like a range function\u001b[0m\u001b[0;34m\u001b[0m\u001b[0;34m\u001b[0m\u001b[0m\n\u001b[0;32m----> 2\u001b[0;31m \u001b[0mnp\u001b[0m\u001b[0;34m.\u001b[0m\u001b[0marange\u001b[0m\u001b[0;34m(\u001b[0m\u001b[0;34m(\u001b[0m\u001b[0;36m2\u001b[0m\u001b[0;34m,\u001b[0m\u001b[0;36m2\u001b[0m\u001b[0;34m)\u001b[0m\u001b[0;34m,\u001b[0m\u001b[0;36m10\u001b[0m\u001b[0;34m,\u001b[0m\u001b[0;36m65\u001b[0m\u001b[0;34m,\u001b[0m\u001b[0;36m5\u001b[0m\u001b[0;34m)\u001b[0m\u001b[0;34m\u001b[0m\u001b[0m\n\u001b[0m",
      "\u001b[0;31mTypeError\u001b[0m: data type not understood"
     ]
    }
   ],
   "source": [
    "# Create an array of evenly-spaced values like a range function\n",
    "np.arange((2,2),10,65,5)"
   ]
  },
  {
   "cell_type": "code",
   "execution_count": 7,
   "metadata": {},
   "outputs": [
    {
     "data": {
      "text/plain": [
       "array([1., 2., 3., 4., 5., 6., 7., 8., 9.])"
      ]
     },
     "execution_count": 7,
     "metadata": {},
     "output_type": "execute_result"
    }
   ],
   "source": [
    "# Create an array of evenly-spaced values\n",
    "np.linspace(1,9,9)"
   ]
  },
  {
   "cell_type": "code",
   "execution_count": 8,
   "metadata": {},
   "outputs": [
    {
     "data": {
      "text/plain": [
       "array([[1., 0., 0., 0., 0., 0.],\n",
       "       [0., 1., 0., 0., 0., 0.],\n",
       "       [0., 0., 1., 0., 0., 0.],\n",
       "       [0., 0., 0., 1., 0., 0.],\n",
       "       [0., 0., 0., 0., 1., 0.],\n",
       "       [0., 0., 0., 0., 0., 1.],\n",
       "       [0., 0., 0., 0., 0., 0.],\n",
       "       [0., 0., 0., 0., 0., 0.],\n",
       "       [0., 0., 0., 0., 0., 0.],\n",
       "       [0., 0., 0., 0., 0., 0.],\n",
       "       [0., 0., 0., 0., 0., 0.],\n",
       "       [0., 0., 0., 0., 0., 0.],\n",
       "       [0., 0., 0., 0., 0., 0.],\n",
       "       [0., 0., 0., 0., 0., 0.],\n",
       "       [0., 0., 0., 0., 0., 0.],\n",
       "       [0., 0., 0., 0., 0., 0.],\n",
       "       [0., 0., 0., 0., 0., 0.],\n",
       "       [0., 0., 0., 0., 0., 0.],\n",
       "       [0., 0., 0., 0., 0., 0.],\n",
       "       [0., 0., 0., 0., 0., 0.],\n",
       "       [0., 0., 0., 0., 0., 0.]])"
      ]
     },
     "execution_count": 8,
     "metadata": {},
     "output_type": "execute_result"
    }
   ],
   "source": [
    "np.eye(21,6)"
   ]
  },
  {
   "cell_type": "code",
   "execution_count": 9,
   "metadata": {},
   "outputs": [
    {
     "data": {
      "text/plain": [
       "array([[1., 0., 0., 0., 0., 0., 0., 0., 0., 0.],\n",
       "       [0., 1., 0., 0., 0., 0., 0., 0., 0., 0.],\n",
       "       [0., 0., 1., 0., 0., 0., 0., 0., 0., 0.],\n",
       "       [0., 0., 0., 1., 0., 0., 0., 0., 0., 0.],\n",
       "       [0., 0., 0., 0., 1., 0., 0., 0., 0., 0.],\n",
       "       [0., 0., 0., 0., 0., 1., 0., 0., 0., 0.],\n",
       "       [0., 0., 0., 0., 0., 0., 1., 0., 0., 0.],\n",
       "       [0., 0., 0., 0., 0., 0., 0., 1., 0., 0.],\n",
       "       [0., 0., 0., 0., 0., 0., 0., 0., 1., 0.],\n",
       "       [0., 0., 0., 0., 0., 0., 0., 0., 0., 1.]])"
      ]
     },
     "execution_count": 9,
     "metadata": {},
     "output_type": "execute_result"
    }
   ],
   "source": [
    "np.identity(10) "
   ]
  },
  {
   "cell_type": "markdown",
   "metadata": {},
   "source": [
    "**NOTE:** When working with larger dataset following functions can be handy to understand the limitations"
   ]
  },
  {
   "cell_type": "code",
   "execution_count": 10,
   "metadata": {},
   "outputs": [
    {
     "name": "stdout",
     "output_type": "stream",
     "text": [
      "1\n",
      "5\n",
      "  C_CONTIGUOUS : True\n",
      "  F_CONTIGUOUS : True\n",
      "  OWNDATA : True\n",
      "  WRITEABLE : True\n",
      "  ALIGNED : True\n",
      "  WRITEBACKIFCOPY : False\n",
      "  UPDATEIFCOPY : False\n",
      "8\n",
      "40\n"
     ]
    }
   ],
   "source": [
    "# Print the number of `my_array`'s dimensions\n",
    "print(ar.ndim)\n",
    "\n",
    "# Print the number of `my_array`'s elements\n",
    "print(ar.size)\n",
    "\n",
    "# Print information about `my_array`'s memory layout\n",
    "print(ar.flags)\n",
    "\n",
    "# Print the length of one array element in bytes\n",
    "print(ar.itemsize)\n",
    "\n",
    "# Print the total consumed bytes by `my_array`'s elements\n",
    "print(ar.nbytes)"
   ]
  },
  {
   "cell_type": "markdown",
   "metadata": {},
   "source": [
    "### NumPy Broadcasting \n",
    "\n",
    "(very important in practical datascience)"
   ]
  },
  {
   "cell_type": "markdown",
   "metadata": {},
   "source": [
    "1. to make sure that the broadcasting is successful, the dimensions of your arrays need to be compatible. Two dimensions are compatible when they are equal. "
   ]
  },
  {
   "cell_type": "code",
   "execution_count": 11,
   "metadata": {},
   "outputs": [
    {
     "name": "stdout",
     "output_type": "stream",
     "text": [
      "(3, 4)\n",
      "[[1. 1. 1. 1.]\n",
      " [1. 1. 1. 1.]\n",
      " [1. 1. 1. 1.]]\n",
      "[0.95849936 0.23176528 0.23619767 0.16382409]\n",
      "[[1.95849936 1.23176528 1.23619767 1.16382409]\n",
      " [1.95849936 1.23176528 1.23619767 1.16382409]\n",
      " [1.95849936 1.23176528 1.23619767 1.16382409]]\n"
     ]
    }
   ],
   "source": [
    "# During addition the dimensions should be same NxM + NxM or NxM + Mx1 \n",
    "x = np.ones((3,4))\n",
    "print(x.shape)\n",
    "print(x)\n",
    "y = np.random.random((4,))\n",
    "print(y)\n",
    "\n",
    "print(x + y)"
   ]
  },
  {
   "cell_type": "code",
   "execution_count": 12,
   "metadata": {},
   "outputs": [
    {
     "name": "stdout",
     "output_type": "stream",
     "text": [
      "(3, 4)\n",
      "(4,)\n",
      "[[ 1.  0. -1. -2.]\n",
      " [ 1.  0. -1. -2.]\n",
      " [ 1.  0. -1. -2.]]\n"
     ]
    }
   ],
   "source": [
    "x = np.ones((3,4))\n",
    "print(x.shape)\n",
    "y = np.arange(4)\n",
    "print(y.shape)\n",
    "\n",
    "print(x - y)"
   ]
  },
  {
   "cell_type": "code",
   "execution_count": 13,
   "metadata": {},
   "outputs": [
    {
     "name": "stdout",
     "output_type": "stream",
     "text": [
      "[[1. 1. 1. 1.]\n",
      " [1. 1. 1. 1.]\n",
      " [1. 1. 1. 1.]]\n",
      "[[[0.22529536 0.930354   0.31696959 0.56171248]]\n",
      "\n",
      " [[0.36723914 0.22550818 0.82405167 0.40829492]]\n",
      "\n",
      " [[0.31855357 0.36152363 0.90725797 0.02711715]]\n",
      "\n",
      " [[0.78529322 0.21248814 0.43333917 0.52119852]]\n",
      "\n",
      " [[0.44058475 0.06879497 0.58164866 0.86626846]]]\n",
      "[[[1.22529536 1.930354   1.31696959 1.56171248]\n",
      "  [1.22529536 1.930354   1.31696959 1.56171248]\n",
      "  [1.22529536 1.930354   1.31696959 1.56171248]]\n",
      "\n",
      " [[1.36723914 1.22550818 1.82405167 1.40829492]\n",
      "  [1.36723914 1.22550818 1.82405167 1.40829492]\n",
      "  [1.36723914 1.22550818 1.82405167 1.40829492]]\n",
      "\n",
      " [[1.31855357 1.36152363 1.90725797 1.02711715]\n",
      "  [1.31855357 1.36152363 1.90725797 1.02711715]\n",
      "  [1.31855357 1.36152363 1.90725797 1.02711715]]\n",
      "\n",
      " [[1.78529322 1.21248814 1.43333917 1.52119852]\n",
      "  [1.78529322 1.21248814 1.43333917 1.52119852]\n",
      "  [1.78529322 1.21248814 1.43333917 1.52119852]]\n",
      "\n",
      " [[1.44058475 1.06879497 1.58164866 1.86626846]\n",
      "  [1.44058475 1.06879497 1.58164866 1.86626846]\n",
      "  [1.44058475 1.06879497 1.58164866 1.86626846]]]\n"
     ]
    }
   ],
   "source": [
    "x = np.ones((3,4))\n",
    "print(x)\n",
    "y = np.random.random((5,1,4))\n",
    "print(y)\n",
    "\n",
    "print(x + y)"
   ]
  },
  {
   "cell_type": "markdown",
   "metadata": {},
   "source": [
    "**The maximum size along each dimension of x and y is taken to make up the shape of the new, resulting array.**"
   ]
  },
  {
   "cell_type": "code",
   "execution_count": 14,
   "metadata": {},
   "outputs": [
    {
     "name": "stdout",
     "output_type": "stream",
     "text": [
      "STD: 0.0\n",
      "MEAN: 1.0\n"
     ]
    }
   ],
   "source": [
    "y = np.ones((5,1,4))\n",
    "print(\"STD: {}\".format(np.std(y)))\n",
    "print(\"MEAN: {}\".format(np.mean(y)))"
   ]
  },
  {
   "cell_type": "code",
   "execution_count": 15,
   "metadata": {},
   "outputs": [],
   "source": [
    "x = np.zeros((3,5))\n",
    "z = np.zeros((3,5))"
   ]
  },
  {
   "cell_type": "code",
   "execution_count": 16,
   "metadata": {},
   "outputs": [
    {
     "name": "stdout",
     "output_type": "stream",
     "text": [
      "[[0. 0. 0. 0. 0.]\n",
      " [0. 0. 0. 0. 0.]\n",
      " [0. 0. 0. 0. 0.]]\n",
      "[[0. 0. 0. 0. 0.]\n",
      " [0. 0. 0. 0. 0.]\n",
      " [0. 0. 0. 0. 0.]]\n"
     ]
    }
   ],
   "source": [
    "print(x)\n",
    "print(z)"
   ]
  },
  {
   "cell_type": "code",
   "execution_count": 17,
   "metadata": {},
   "outputs": [
    {
     "name": "stdout",
     "output_type": "stream",
     "text": [
      "False\n",
      "True\n"
     ]
    }
   ],
   "source": [
    "print(np.array_equal(x,y))\n",
    "print(np.array_equal(x,z))"
   ]
  },
  {
   "cell_type": "code",
   "execution_count": 31,
   "metadata": {},
   "outputs": [],
   "source": [
    "scalar = np.arange(1,50)\n",
    "ones = np.ones((49,1,49))\n",
    "ar = np.multiply(scalar, ones)"
   ]
  },
  {
   "cell_type": "code",
   "execution_count": 32,
   "metadata": {},
   "outputs": [
    {
     "data": {
      "text/plain": [
       "array([[[ 1.,  2.,  3., ..., 47., 48., 49.]],\n",
       "\n",
       "       [[ 1.,  2.,  3., ..., 47., 48., 49.]],\n",
       "\n",
       "       [[ 1.,  2.,  3., ..., 47., 48., 49.]],\n",
       "\n",
       "       ...,\n",
       "\n",
       "       [[ 1.,  2.,  3., ..., 47., 48., 49.]],\n",
       "\n",
       "       [[ 1.,  2.,  3., ..., 47., 48., 49.]],\n",
       "\n",
       "       [[ 1.,  2.,  3., ..., 47., 48., 49.]]])"
      ]
     },
     "execution_count": 32,
     "metadata": {},
     "output_type": "execute_result"
    }
   ],
   "source": [
    "\n",
    "ar"
   ]
  },
  {
   "cell_type": "code",
   "execution_count": null,
   "metadata": {},
   "outputs": [],
   "source": []
  },
  {
   "cell_type": "code",
   "execution_count": 24,
   "metadata": {},
   "outputs": [
    {
     "name": "stdout",
     "output_type": "stream",
     "text": [
      "2\n"
     ]
    },
    {
     "ename": "IndexError",
     "evalue": "invalid index to scalar variable.",
     "output_type": "error",
     "traceback": [
      "\u001b[0;31m---------------------------------------------------------------------------\u001b[0m",
      "\u001b[0;31mIndexError\u001b[0m                                Traceback (most recent call last)",
      "\u001b[0;32m<ipython-input-24-9ac34dd3c31e>\u001b[0m in \u001b[0;36m<module>\u001b[0;34m()\u001b[0m\n\u001b[1;32m      3\u001b[0m \u001b[0;34m\u001b[0m\u001b[0m\n\u001b[1;32m      4\u001b[0m \u001b[0;31m# Select the element at row 1 column 2\u001b[0m\u001b[0;34m\u001b[0m\u001b[0;34m\u001b[0m\u001b[0m\n\u001b[0;32m----> 5\u001b[0;31m \u001b[0mprint\u001b[0m\u001b[0;34m(\u001b[0m\u001b[0mar\u001b[0m\u001b[0;34m[\u001b[0m\u001b[0;36m1\u001b[0m\u001b[0;34m]\u001b[0m\u001b[0;34m[\u001b[0m\u001b[0;36m2\u001b[0m\u001b[0;34m]\u001b[0m\u001b[0;34m)\u001b[0m\u001b[0;34m\u001b[0m\u001b[0m\n\u001b[0m\u001b[1;32m      6\u001b[0m \u001b[0;34m\u001b[0m\u001b[0m\n\u001b[1;32m      7\u001b[0m \u001b[0;31m# # Select the element at row 1 column 2\u001b[0m\u001b[0;34m\u001b[0m\u001b[0;34m\u001b[0m\u001b[0m\n",
      "\u001b[0;31mIndexError\u001b[0m: invalid index to scalar variable."
     ]
    }
   ],
   "source": [
    "#QUICK Review if subsetting\n",
    "print(ar[1])\n",
    "\n",
    "# Select the element at row 1 column 2\n",
    "print(ar[1][2])\n",
    "\n",
    "# # Select the element at row 1 column 2\n",
    "# print(my_2d_array[1,2])\n",
    "\n",
    "# # Select the element at row 1, column 2 and \n",
    "# print(my_3d_array[1,1,2])"
   ]
  },
  {
   "cell_type": "code",
   "execution_count": null,
   "metadata": {},
   "outputs": [],
   "source": []
  },
  {
   "cell_type": "code",
   "execution_count": null,
   "metadata": {},
   "outputs": [],
   "source": []
  },
  {
   "cell_type": "code",
   "execution_count": null,
   "metadata": {},
   "outputs": [],
   "source": []
  },
  {
   "cell_type": "code",
   "execution_count": null,
   "metadata": {},
   "outputs": [],
   "source": []
  },
  {
   "cell_type": "code",
   "execution_count": null,
   "metadata": {},
   "outputs": [],
   "source": []
  }
 ],
 "metadata": {
  "kernelspec": {
   "display_name": "Python 3",
   "language": "python",
   "name": "python3"
  },
  "language_info": {
   "codemirror_mode": {
    "name": "ipython",
    "version": 3
   },
   "file_extension": ".py",
   "mimetype": "text/x-python",
   "name": "python",
   "nbconvert_exporter": "python",
   "pygments_lexer": "ipython3",
   "version": "3.4.6"
  }
 },
 "nbformat": 4,
 "nbformat_minor": 2
}
