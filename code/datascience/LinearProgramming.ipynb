{
 "cells": [
  {
   "cell_type": "markdown",
   "metadata": {},
   "source": [
    "## Linear Programming\n",
    "\n",
    "1. https://www.youtube.com/watch?v=7yZ5xxdkTb8\n",
    "2. http://benalexkeen.com/linear-programming-with-python-and-pulp-part-1/\n"
   ]
  },
  {
   "cell_type": "code",
   "execution_count": null,
   "metadata": {},
   "outputs": [],
   "source": [
    "import numpy as np\n",
    "\n",
    "import pulp\n",
    "import pandas as pd\n",
    "import re \n",
    "import seaborn as sns\n",
    "import matplotlib.pyplot as plt\n",
    "import warnings\n",
    "warnings.filterwarnings('ignore')\n",
    "%matplotlib inline"
   ]
  },
  {
   "cell_type": "code",
   "execution_count": null,
   "metadata": {},
   "outputs": [],
   "source": [
    "# x > 0\n",
    "x = np.linspace(0, 20, 2000)\n",
    "# y >= 2\n",
    "y1 = (x*0) + 2\n",
    "# 2y <= 25 - x\n",
    "y2 = (25-x)/2.0\n",
    "# 4y >= 2x - 8 \n",
    "y3 = (2*x-8)/4.0\n",
    "# y <= 2x - 5 \n",
    "y4 = 2 * x -5\n"
   ]
  },
  {
   "cell_type": "code",
   "execution_count": 3,
   "metadata": {},
   "outputs": [],
   "source": [
    "plt.plot(x, y1, label=r'$y\\geq2$')\n",
    "plt.plot(x, y2, label=r'$2y\\leq25-x$')\n",
    "plt.plot(x, y3, label=r'$4y\\geq 2x - 8$')\n",
    "plt.plot(x, y4, label=r'$y\\leq 2x-5$')\n",
    "plt.xlim((0, 16))\n",
    "plt.ylim((0, 11))\n",
    "plt.xlabel(r'$x$')\n",
    "plt.ylabel(r'$y$')\n",
    "y5 = np.minimum(y2, y4)\n",
    "y6 = np.maximum(y1, y3)\n",
    "plt.fill_between(x, y5, y6, where=y5>y6, color='grey', alpha=0.5)\n",
    "plt.legend(bbox_to_anchor=(1.05, 1), loc=2, borderaxespad=0.)"
   ]
  },
  {
   "cell_type": "code",
   "execution_count": 4,
   "metadata": {},
   "outputs": [],
   "source": [
    "# Now the same thing as pulp\n",
    "lp_problem = pulp.LpProblem(\"My LP Problem\", pulp.LpMaximize)\n",
    "x = pulp.LpVariable('x', lowBound=0, cat='Continuous')\n",
    "y = pulp.LpVariable('y', lowBound=2, cat='Continuous')\n",
    "# Objective function\n",
    "lp_problem += 4 * x + 3 * y, \"Z\"\n",
    "\n",
    "# Constraints\n",
    "lp_problem += 2 * y <= 25 - x\n",
    "lp_problem += 4 * y >= 2 * x - 8\n",
    "lp_problem += y <= 2 * x - 5"
   ]
  },
  {
   "cell_type": "code",
   "execution_count": 5,
   "metadata": {},
   "outputs": [
    {
     "data": {
      "text/plain": [
       "My LP Problem:\n",
       "MAXIMIZE\n",
       "4*x + 3*y + 0\n",
       "SUBJECT TO\n",
       "_C1: x + 2 y <= 25\n",
       "\n",
       "_C2: - 2 x + 4 y >= -8\n",
       "\n",
       "_C3: - 2 x + y <= -5\n",
       "\n",
       "VARIABLES\n",
       "x Continuous\n",
       "2 <= y Continuous"
      ]
     },
     "execution_count": 5,
     "metadata": {},
     "output_type": "execute_result"
    }
   ],
   "source": [
    "lp_problem"
   ]
  },
  {
   "cell_type": "code",
   "execution_count": 6,
   "metadata": {},
   "outputs": [
    {
     "data": {
      "text/plain": [
       "'Optimal'"
      ]
     },
     "execution_count": 6,
     "metadata": {},
     "output_type": "execute_result"
    }
   ],
   "source": [
    "lp_problem.solve()\n",
    "pulp.LpStatus[lp_problem.status]"
   ]
  },
  {
   "cell_type": "code",
   "execution_count": 7,
   "metadata": {},
   "outputs": [
    {
     "name": "stdout",
     "output_type": "stream",
     "text": [
      "x = 14.5\n",
      "y = 5.25\n"
     ]
    }
   ],
   "source": [
    "for variable in lp_problem.variables():\n",
    "    print(\"{} = {}\".format(variable.name, variable.varValue))"
   ]
  },
  {
   "cell_type": "code",
   "execution_count": 8,
   "metadata": {},
   "outputs": [
    {
     "name": "stdout",
     "output_type": "stream",
     "text": [
      "73.75\n"
     ]
    }
   ],
   "source": [
    "print(pulp.value(lp_problem.objective))"
   ]
  },
  {
   "cell_type": "code",
   "execution_count": 9,
   "metadata": {},
   "outputs": [],
   "source": [
    "books_df = pd.read_csv('../reading/goodread_books.csv')\n",
    "books_df = books_df.sample(50)"
   ]
  },
  {
   "cell_type": "code",
   "execution_count": 10,
   "metadata": {},
   "outputs": [
    {
     "data": {
      "text/html": [
       "<div>\n",
       "<style scoped>\n",
       "    .dataframe tbody tr th:only-of-type {\n",
       "        vertical-align: middle;\n",
       "    }\n",
       "\n",
       "    .dataframe tbody tr th {\n",
       "        vertical-align: top;\n",
       "    }\n",
       "\n",
       "    .dataframe thead th {\n",
       "        text-align: right;\n",
       "    }\n",
       "</style>\n",
       "<table border=\"1\" class=\"dataframe\">\n",
       "  <thead>\n",
       "    <tr style=\"text-align: right;\">\n",
       "      <th></th>\n",
       "      <th>title</th>\n",
       "      <th>num_review</th>\n",
       "      <th>num_ratings</th>\n",
       "      <th>url</th>\n",
       "      <th>rating</th>\n",
       "      <th>num_pages</th>\n",
       "      <th>genres</th>\n",
       "    </tr>\n",
       "  </thead>\n",
       "  <tbody>\n",
       "    <tr>\n",
       "      <th>11731</th>\n",
       "      <td>life laughs: the naked truth about motherhood,...</td>\n",
       "      <td>270</td>\n",
       "      <td>2767</td>\n",
       "      <td>https://www.goodreads.com/book/show/12501.Life...</td>\n",
       "      <td>3.81</td>\n",
       "      <td>240.0</td>\n",
       "      <td>nonfiction,humor,parenting</td>\n",
       "    </tr>\n",
       "    <tr>\n",
       "      <th>14621</th>\n",
       "      <td>making my own rainbows: poems of love, life, a...</td>\n",
       "      <td>0</td>\n",
       "      <td>4</td>\n",
       "      <td>https://www.goodreads.com/book/show/15773455-m...</td>\n",
       "      <td>3.50</td>\n",
       "      <td>71.0</td>\n",
       "      <td>NaN</td>\n",
       "    </tr>\n",
       "    <tr>\n",
       "      <th>15498</th>\n",
       "      <td>charleston</td>\n",
       "      <td>136</td>\n",
       "      <td>2943</td>\n",
       "      <td>https://www.goodreads.com/book/show/912687.Cha...</td>\n",
       "      <td>3.88</td>\n",
       "      <td>532.0</td>\n",
       "      <td>historical,fiction,military history</td>\n",
       "    </tr>\n",
       "    <tr>\n",
       "      <th>7734</th>\n",
       "      <td>little house in the big woods, farmer boy, lit...</td>\n",
       "      <td>2</td>\n",
       "      <td>78</td>\n",
       "      <td>https://www.goodreads.com/book/show/29487154-l...</td>\n",
       "      <td>4.62</td>\n",
       "      <td>999.0</td>\n",
       "      <td>love,humor</td>\n",
       "    </tr>\n",
       "    <tr>\n",
       "      <th>14384</th>\n",
       "      <td>signs of life-- observations of death</td>\n",
       "      <td>1</td>\n",
       "      <td>2</td>\n",
       "      <td>https://www.goodreads.com/book/show/11702890-s...</td>\n",
       "      <td>5.00</td>\n",
       "      <td>87.0</td>\n",
       "      <td>NaN</td>\n",
       "    </tr>\n",
       "  </tbody>\n",
       "</table>\n",
       "</div>"
      ],
      "text/plain": [
       "                                                   title  num_review  \\\n",
       "11731  life laughs: the naked truth about motherhood,...         270   \n",
       "14621  making my own rainbows: poems of love, life, a...           0   \n",
       "15498                                         charleston         136   \n",
       "7734   little house in the big woods, farmer boy, lit...           2   \n",
       "14384              signs of life-- observations of death           1   \n",
       "\n",
       "       num_ratings                                                url  rating  \\\n",
       "11731         2767  https://www.goodreads.com/book/show/12501.Life...    3.81   \n",
       "14621            4  https://www.goodreads.com/book/show/15773455-m...    3.50   \n",
       "15498         2943  https://www.goodreads.com/book/show/912687.Cha...    3.88   \n",
       "7734            78  https://www.goodreads.com/book/show/29487154-l...    4.62   \n",
       "14384            2  https://www.goodreads.com/book/show/11702890-s...    5.00   \n",
       "\n",
       "       num_pages                               genres  \n",
       "11731      240.0           nonfiction,humor,parenting  \n",
       "14621       71.0                                  NaN  \n",
       "15498      532.0  historical,fiction,military history  \n",
       "7734       999.0                           love,humor  \n",
       "14384       87.0                                  NaN  "
      ]
     },
     "execution_count": 10,
     "metadata": {},
     "output_type": "execute_result"
    }
   ],
   "source": [
    "books_df.head()"
   ]
  },
  {
   "cell_type": "code",
   "execution_count": 11,
   "metadata": {},
   "outputs": [
    {
     "data": {
      "text/plain": [
       "<matplotlib.axes._subplots.AxesSubplot at 0x10f566e48>"
      ]
     },
     "execution_count": 11,
     "metadata": {},
     "output_type": "execute_result"
    },
    {
     "data": {
      "image/png": "[encoded data removed]",
      "text/plain": [
       "<matplotlib.figure.Figure at 0x11076aa20>"
      ]
     },
     "metadata": {},
     "output_type": "display_data"
    }
   ],
   "source": [
    "sns.distplot(books_df['rating'])"
   ]
  },
  {
   "cell_type": "code",
   "execution_count": 12,
   "metadata": {},
   "outputs": [
    {
     "data": {
      "text/plain": [
       "<matplotlib.axes._subplots.AxesSubplot at 0x10f632fd0>"
      ]
     },
     "execution_count": 12,
     "metadata": {},
     "output_type": "execute_result"
    },
    {
     "data": {
      "image/png": "[encoded data removed]",
      "text/plain": [
       "<matplotlib.figure.Figure at 0x10f60d048>"
      ]
     },
     "metadata": {},
     "output_type": "display_data"
    }
   ],
   "source": [
    "sns.distplot(books_df.num_pages.dropna())"
   ]
  },
  {
   "cell_type": "code",
   "execution_count": 13,
   "metadata": {},
   "outputs": [],
   "source": [
    "# create the LP object\n",
    "# Maximization problem we want to maximize the number of books we read in 100 hours\n",
    "prob = pulp.LpProblem('RecommendedBooks', pulp.LpMaximize)"
   ]
  },
  {
   "cell_type": "code",
   "execution_count": 14,
   "metadata": {},
   "outputs": [],
   "source": [
    "#I would not like to read a book more than 1200 pages\n",
    "books_df = books_df.dropna(subset=['num_pages'])"
   ]
  },
  {
   "cell_type": "code",
   "execution_count": 15,
   "metadata": {},
   "outputs": [
    {
     "data": {
      "text/plain": [
       "(48, 7)"
      ]
     },
     "execution_count": 15,
     "metadata": {},
     "output_type": "execute_result"
    }
   ],
   "source": [
    "books_df.shape"
   ]
  },
  {
   "cell_type": "code",
   "execution_count": 16,
   "metadata": {},
   "outputs": [],
   "source": [
    "books_df = books_df[books_df.num_pages <= 1200]"
   ]
  },
  {
   "cell_type": "code",
   "execution_count": 17,
   "metadata": {},
   "outputs": [
    {
     "data": {
      "text/plain": [
       "(48, 7)"
      ]
     },
     "execution_count": 17,
     "metadata": {},
     "output_type": "execute_result"
    }
   ],
   "source": [
    "books_df.shape"
   ]
  },
  {
   "cell_type": "code",
   "execution_count": 18,
   "metadata": {},
   "outputs": [
    {
     "data": {
      "text/plain": [
       "<matplotlib.axes._subplots.AxesSubplot at 0x110a77a90>"
      ]
     },
     "execution_count": 18,
     "metadata": {},
     "output_type": "execute_result"
    },
    {
     "data": {
      "image/png": "[encoded data removed]",
      "text/plain": [
       "<matplotlib.figure.Figure at 0x110a7f9e8>"
      ]
     },
     "metadata": {},
     "output_type": "display_data"
    }
   ],
   "source": [
    "sns.distplot(books_df.num_pages.dropna())"
   ]
  },
  {
   "cell_type": "code",
   "execution_count": 19,
   "metadata": {},
   "outputs": [
    {
     "name": "stdout",
     "output_type": "stream",
     "text": [
      "Total number of decision_variables: 48\n"
     ]
    }
   ],
   "source": [
    "decision_variables = []\n",
    "for rownumber in books_df.index:\n",
    "    variable = str('x' + str(rownumber))\n",
    "    variable = pulp.LpVariable(str(variable), lowBound = 0, upBound = 1, cat= 'Integer')\n",
    "    decision_variables.append(variable)\n",
    "print(\"Total number of decision_variables: \" + str(len(decision_variables)))"
   ]
  },
  {
   "cell_type": "code",
   "execution_count": 20,
   "metadata": {},
   "outputs": [
    {
     "name": "stdout",
     "output_type": "stream",
     "text": [
      "Optimization function: x10050 + x10263 + x10425 + x11011 + x11731 + x12294 + x12858 + x13268 + x13295 + x13351 + x13421 + x13925 + x1411 + x14384 + x14621 + x15156 + x15263 + x15366 + x15498 + x15954 + x16080 + x17154 + x17185 + x1788 + x1797 + x18154 + x18193 + x18343 + x2208 + x3203 + x3623 + x4550 + x5100 + x5346 + x611 + x6115 + x6505 + x6602 + x7270 + x7370 + x7440 + x7734 + x7978 + x902 + x9047 + x9122 + x9199 + x9972\n"
     ]
    }
   ],
   "source": [
    "#create optimization function\n",
    "total_books = \"\"\n",
    "for i, book in enumerate(decision_variables):\n",
    "    total_books += book\n",
    "\n",
    "prob += total_books\n",
    "print(\"Optimization function: \" + str(total_books))"
   ]
  },
  {
   "cell_type": "code",
   "execution_count": 21,
   "metadata": {},
   "outputs": [],
   "source": [
    "total_hours_to_read = 100\n",
    "pages_per_hour = 60\n",
    "total_pages_can_read = total_hours_to_read * pages_per_hour"
   ]
  },
  {
   "cell_type": "code",
   "execution_count": 22,
   "metadata": {},
   "outputs": [
    {
     "data": {
      "text/plain": [
       "RecommendedBooks:\n",
       "MAXIMIZE\n",
       "1*x10050 + 1*x10263 + 1*x10425 + 1*x11011 + 1*x11731 + 1*x12294 + 1*x12858 + 1*x13268 + 1*x13295 + 1*x13351 + 1*x13421 + 1*x13925 + 1*x1411 + 1*x14384 + 1*x14621 + 1*x15156 + 1*x15263 + 1*x15366 + 1*x15498 + 1*x15954 + 1*x16080 + 1*x17154 + 1*x17185 + 1*x1788 + 1*x1797 + 1*x18154 + 1*x18193 + 1*x18343 + 1*x2208 + 1*x3203 + 1*x3623 + 1*x4550 + 1*x5100 + 1*x5346 + 1*x611 + 1*x6115 + 1*x6505 + 1*x6602 + 1*x7270 + 1*x7370 + 1*x7440 + 1*x7734 + 1*x7978 + 1*x902 + 1*x9047 + 1*x9122 + 1*x9199 + 1*x9972 + 0\n",
       "VARIABLES\n",
       "0 <= x10050 <= 1 Integer\n",
       "0 <= x10263 <= 1 Integer\n",
       "0 <= x10425 <= 1 Integer\n",
       "0 <= x11011 <= 1 Integer\n",
       "0 <= x11731 <= 1 Integer\n",
       "0 <= x12294 <= 1 Integer\n",
       "0 <= x12858 <= 1 Integer\n",
       "0 <= x13268 <= 1 Integer\n",
       "0 <= x13295 <= 1 Integer\n",
       "0 <= x13351 <= 1 Integer\n",
       "0 <= x13421 <= 1 Integer\n",
       "0 <= x13925 <= 1 Integer\n",
       "0 <= x1411 <= 1 Integer\n",
       "0 <= x14384 <= 1 Integer\n",
       "0 <= x14621 <= 1 Integer\n",
       "0 <= x15156 <= 1 Integer\n",
       "0 <= x15263 <= 1 Integer\n",
       "0 <= x15366 <= 1 Integer\n",
       "0 <= x15498 <= 1 Integer\n",
       "0 <= x15954 <= 1 Integer\n",
       "0 <= x16080 <= 1 Integer\n",
       "0 <= x17154 <= 1 Integer\n",
       "0 <= x17185 <= 1 Integer\n",
       "0 <= x1788 <= 1 Integer\n",
       "0 <= x1797 <= 1 Integer\n",
       "0 <= x18154 <= 1 Integer\n",
       "0 <= x18193 <= 1 Integer\n",
       "0 <= x18343 <= 1 Integer\n",
       "0 <= x2208 <= 1 Integer\n",
       "0 <= x3203 <= 1 Integer\n",
       "0 <= x3623 <= 1 Integer\n",
       "0 <= x4550 <= 1 Integer\n",
       "0 <= x5100 <= 1 Integer\n",
       "0 <= x5346 <= 1 Integer\n",
       "0 <= x611 <= 1 Integer\n",
       "0 <= x6115 <= 1 Integer\n",
       "0 <= x6505 <= 1 Integer\n",
       "0 <= x6602 <= 1 Integer\n",
       "0 <= x7270 <= 1 Integer\n",
       "0 <= x7370 <= 1 Integer\n",
       "0 <= x7440 <= 1 Integer\n",
       "0 <= x7734 <= 1 Integer\n",
       "0 <= x7978 <= 1 Integer\n",
       "0 <= x902 <= 1 Integer\n",
       "0 <= x9047 <= 1 Integer\n",
       "0 <= x9122 <= 1 Integer\n",
       "0 <= x9199 <= 1 Integer\n",
       "0 <= x9972 <= 1 Integer"
      ]
     },
     "execution_count": 22,
     "metadata": {},
     "output_type": "execute_result"
    }
   ],
   "source": [
    "prob"
   ]
  },
  {
   "cell_type": "code",
   "execution_count": 23,
   "metadata": {},
   "outputs": [],
   "source": [
    "#create constrains - there are only 365 days\n",
    "\n",
    "total_pages_needs_to_read = \"\"\n",
    "for rownum, row in books_df.iterrows():\n",
    "    for i, schedule in enumerate(decision_variables):\n",
    "        if rownum == i:\n",
    "            formula = row['num_pages']*schedule\n",
    "            total_pages_needs_to_read += formula\n",
    "\n",
    "prob += (total_pages_needs_to_read == total_pages_can_read)"
   ]
  },
  {
   "cell_type": "code",
   "execution_count": 24,
   "metadata": {},
   "outputs": [
    {
     "data": {
      "text/plain": [
       "RecommendedBooks:\n",
       "MAXIMIZE\n",
       "False\n",
       "VARIABLES\n",
       "0 <= x10050 <= 1 Integer\n",
       "0 <= x10263 <= 1 Integer\n",
       "0 <= x10425 <= 1 Integer\n",
       "0 <= x11011 <= 1 Integer\n",
       "0 <= x11731 <= 1 Integer\n",
       "0 <= x12294 <= 1 Integer\n",
       "0 <= x12858 <= 1 Integer\n",
       "0 <= x13268 <= 1 Integer\n",
       "0 <= x13295 <= 1 Integer\n",
       "0 <= x13351 <= 1 Integer\n",
       "0 <= x13421 <= 1 Integer\n",
       "0 <= x13925 <= 1 Integer\n",
       "0 <= x1411 <= 1 Integer\n",
       "0 <= x14384 <= 1 Integer\n",
       "0 <= x14621 <= 1 Integer\n",
       "0 <= x15156 <= 1 Integer\n",
       "0 <= x15263 <= 1 Integer\n",
       "0 <= x15366 <= 1 Integer\n",
       "0 <= x15498 <= 1 Integer\n",
       "0 <= x15954 <= 1 Integer\n",
       "0 <= x16080 <= 1 Integer\n",
       "0 <= x17154 <= 1 Integer\n",
       "0 <= x17185 <= 1 Integer\n",
       "0 <= x1788 <= 1 Integer\n",
       "0 <= x1797 <= 1 Integer\n",
       "0 <= x18154 <= 1 Integer\n",
       "0 <= x18193 <= 1 Integer\n",
       "0 <= x18343 <= 1 Integer\n",
       "0 <= x2208 <= 1 Integer\n",
       "0 <= x3203 <= 1 Integer\n",
       "0 <= x3623 <= 1 Integer\n",
       "0 <= x4550 <= 1 Integer\n",
       "0 <= x5100 <= 1 Integer\n",
       "0 <= x5346 <= 1 Integer\n",
       "0 <= x611 <= 1 Integer\n",
       "0 <= x6115 <= 1 Integer\n",
       "0 <= x6505 <= 1 Integer\n",
       "0 <= x6602 <= 1 Integer\n",
       "0 <= x7270 <= 1 Integer\n",
       "0 <= x7370 <= 1 Integer\n",
       "0 <= x7440 <= 1 Integer\n",
       "0 <= x7734 <= 1 Integer\n",
       "0 <= x7978 <= 1 Integer\n",
       "0 <= x902 <= 1 Integer\n",
       "0 <= x9047 <= 1 Integer\n",
       "0 <= x9122 <= 1 Integer\n",
       "0 <= x9199 <= 1 Integer\n",
       "0 <= x9972 <= 1 Integer"
      ]
     },
     "execution_count": 24,
     "metadata": {},
     "output_type": "execute_result"
    }
   ],
   "source": [
    "prob"
   ]
  },
  {
   "cell_type": "code",
   "execution_count": 25,
   "metadata": {},
   "outputs": [
    {
     "name": "stdout",
     "output_type": "stream",
     "text": [
      "RecommendedBooks:\n",
      "MAXIMIZE\n",
      "False\n",
      "VARIABLES\n",
      "0 <= x10050 <= 1 Integer\n",
      "0 <= x10263 <= 1 Integer\n",
      "0 <= x10425 <= 1 Integer\n",
      "0 <= x11011 <= 1 Integer\n",
      "0 <= x11731 <= 1 Integer\n",
      "0 <= x12294 <= 1 Integer\n",
      "0 <= x12858 <= 1 Integer\n",
      "0 <= x13268 <= 1 Integer\n",
      "0 <= x13295 <= 1 Integer\n",
      "0 <= x13351 <= 1 Integer\n",
      "0 <= x13421 <= 1 Integer\n",
      "0 <= x13925 <= 1 Integer\n",
      "0 <= x1411 <= 1 Integer\n",
      "0 <= x14384 <= 1 Integer\n",
      "0 <= x14621 <= 1 Integer\n",
      "0 <= x15156 <= 1 Integer\n",
      "0 <= x15263 <= 1 Integer\n",
      "0 <= x15366 <= 1 Integer\n",
      "0 <= x15498 <= 1 Integer\n",
      "0 <= x15954 <= 1 Integer\n",
      "0 <= x16080 <= 1 Integer\n",
      "0 <= x17154 <= 1 Integer\n",
      "0 <= x17185 <= 1 Integer\n",
      "0 <= x1788 <= 1 Integer\n",
      "0 <= x1797 <= 1 Integer\n",
      "0 <= x18154 <= 1 Integer\n",
      "0 <= x18193 <= 1 Integer\n",
      "0 <= x18343 <= 1 Integer\n",
      "0 <= x2208 <= 1 Integer\n",
      "0 <= x3203 <= 1 Integer\n",
      "0 <= x3623 <= 1 Integer\n",
      "0 <= x4550 <= 1 Integer\n",
      "0 <= x5100 <= 1 Integer\n",
      "0 <= x5346 <= 1 Integer\n",
      "0 <= x611 <= 1 Integer\n",
      "0 <= x6115 <= 1 Integer\n",
      "0 <= x6505 <= 1 Integer\n",
      "0 <= x6602 <= 1 Integer\n",
      "0 <= x7270 <= 1 Integer\n",
      "0 <= x7370 <= 1 Integer\n",
      "0 <= x7440 <= 1 Integer\n",
      "0 <= x7734 <= 1 Integer\n",
      "0 <= x7978 <= 1 Integer\n",
      "0 <= x902 <= 1 Integer\n",
      "0 <= x9047 <= 1 Integer\n",
      "0 <= x9122 <= 1 Integer\n",
      "0 <= x9199 <= 1 Integer\n",
      "0 <= x9972 <= 1 Integer\n",
      "\n"
     ]
    }
   ],
   "source": [
    "print(prob)\n",
    "prob.writeLP(\"RecommendedBooks.lp\" )"
   ]
  },
  {
   "cell_type": "code",
   "execution_count": 28,
   "metadata": {},
   "outputs": [],
   "source": [
    "pulp.LpSolverDefault.msg = 1"
   ]
  },
  {
   "cell_type": "code",
   "execution_count": 29,
   "metadata": {},
   "outputs": [
    {
     "ename": "PulpSolverError",
     "evalue": "Pulp: Error while executing /Users/nehiljain/.pyenv/versions/3.4.6/envs/py34/lib/python3.4/site-packages/pulp/solverdir/cbc/osx/64/cbc",
     "output_type": "error",
     "traceback": [
      "\u001b[0;31m---------------------------------------------------------------------------\u001b[0m",
      "\u001b[0;31mPulpSolverError\u001b[0m                           Traceback (most recent call last)",
      "\u001b[0;32m<ipython-input-29-5e6f64ff2c29>\u001b[0m in \u001b[0;36m<module>\u001b[0;34m()\u001b[0m\n\u001b[0;32m----> 1\u001b[0;31m \u001b[0moptimization_result\u001b[0m \u001b[0;34m=\u001b[0m \u001b[0mprob\u001b[0m\u001b[0;34m.\u001b[0m\u001b[0msolve\u001b[0m\u001b[0;34m(\u001b[0m\u001b[0;34m)\u001b[0m\u001b[0;34m\u001b[0m\u001b[0m\n\u001b[0m",
      "\u001b[0;32m~/.pyenv/versions/3.4.6/envs/py34/lib/python3.4/site-packages/pulp/pulp.py\u001b[0m in \u001b[0;36msolve\u001b[0;34m(self, solver, **kwargs)\u001b[0m\n\u001b[1;32m   1662\u001b[0m         \u001b[0;31m#time it\u001b[0m\u001b[0;34m\u001b[0m\u001b[0;34m\u001b[0m\u001b[0m\n\u001b[1;32m   1663\u001b[0m         \u001b[0mself\u001b[0m\u001b[0;34m.\u001b[0m\u001b[0msolutionTime\u001b[0m \u001b[0;34m=\u001b[0m \u001b[0;34m-\u001b[0m\u001b[0mclock\u001b[0m\u001b[0;34m(\u001b[0m\u001b[0;34m)\u001b[0m\u001b[0;34m\u001b[0m\u001b[0m\n\u001b[0;32m-> 1664\u001b[0;31m         \u001b[0mstatus\u001b[0m \u001b[0;34m=\u001b[0m \u001b[0msolver\u001b[0m\u001b[0;34m.\u001b[0m\u001b[0mactualSolve\u001b[0m\u001b[0;34m(\u001b[0m\u001b[0mself\u001b[0m\u001b[0;34m,\u001b[0m \u001b[0;34m**\u001b[0m\u001b[0mkwargs\u001b[0m\u001b[0;34m)\u001b[0m\u001b[0;34m\u001b[0m\u001b[0m\n\u001b[0m\u001b[1;32m   1665\u001b[0m         \u001b[0mself\u001b[0m\u001b[0;34m.\u001b[0m\u001b[0msolutionTime\u001b[0m \u001b[0;34m+=\u001b[0m \u001b[0mclock\u001b[0m\u001b[0;34m(\u001b[0m\u001b[0;34m)\u001b[0m\u001b[0;34m\u001b[0m\u001b[0m\n\u001b[1;32m   1666\u001b[0m         \u001b[0mself\u001b[0m\u001b[0;34m.\u001b[0m\u001b[0mrestoreObjective\u001b[0m\u001b[0;34m(\u001b[0m\u001b[0mwasNone\u001b[0m\u001b[0;34m,\u001b[0m \u001b[0mdummyVar\u001b[0m\u001b[0;34m)\u001b[0m\u001b[0;34m\u001b[0m\u001b[0m\n",
      "\u001b[0;32m~/.pyenv/versions/3.4.6/envs/py34/lib/python3.4/site-packages/pulp/solvers.py\u001b[0m in \u001b[0;36mactualSolve\u001b[0;34m(self, lp, **kwargs)\u001b[0m\n\u001b[1;32m   1360\u001b[0m     \u001b[0;32mdef\u001b[0m \u001b[0mactualSolve\u001b[0m\u001b[0;34m(\u001b[0m\u001b[0mself\u001b[0m\u001b[0;34m,\u001b[0m \u001b[0mlp\u001b[0m\u001b[0;34m,\u001b[0m \u001b[0;34m**\u001b[0m\u001b[0mkwargs\u001b[0m\u001b[0;34m)\u001b[0m\u001b[0;34m:\u001b[0m\u001b[0;34m\u001b[0m\u001b[0m\n\u001b[1;32m   1361\u001b[0m         \u001b[0;34m\"\"\"Solve a well formulated lp problem\"\"\"\u001b[0m\u001b[0;34m\u001b[0m\u001b[0m\n\u001b[0;32m-> 1362\u001b[0;31m         \u001b[0;32mreturn\u001b[0m \u001b[0mself\u001b[0m\u001b[0;34m.\u001b[0m\u001b[0msolve_CBC\u001b[0m\u001b[0;34m(\u001b[0m\u001b[0mlp\u001b[0m\u001b[0;34m,\u001b[0m \u001b[0;34m**\u001b[0m\u001b[0mkwargs\u001b[0m\u001b[0;34m)\u001b[0m\u001b[0;34m\u001b[0m\u001b[0m\n\u001b[0m\u001b[1;32m   1363\u001b[0m \u001b[0;34m\u001b[0m\u001b[0m\n\u001b[1;32m   1364\u001b[0m     \u001b[0;32mdef\u001b[0m \u001b[0mavailable\u001b[0m\u001b[0;34m(\u001b[0m\u001b[0mself\u001b[0m\u001b[0;34m)\u001b[0m\u001b[0;34m:\u001b[0m\u001b[0;34m\u001b[0m\u001b[0m\n",
      "\u001b[0;32m~/.pyenv/versions/3.4.6/envs/py34/lib/python3.4/site-packages/pulp/solvers.py\u001b[0m in \u001b[0;36msolve_CBC\u001b[0;34m(self, lp, use_mps)\u001b[0m\n\u001b[1;32m   1423\u001b[0m                                     self.path)\n\u001b[1;32m   1424\u001b[0m         \u001b[0;32mif\u001b[0m \u001b[0;32mnot\u001b[0m \u001b[0mos\u001b[0m\u001b[0;34m.\u001b[0m\u001b[0mpath\u001b[0m\u001b[0;34m.\u001b[0m\u001b[0mexists\u001b[0m\u001b[0;34m(\u001b[0m\u001b[0mtmpSol\u001b[0m\u001b[0;34m)\u001b[0m\u001b[0;34m:\u001b[0m\u001b[0;34m\u001b[0m\u001b[0m\n\u001b[0;32m-> 1425\u001b[0;31m             \u001b[0;32mraise\u001b[0m \u001b[0mPulpSolverError\u001b[0m\u001b[0;34m(\u001b[0m\u001b[0;34m\"Pulp: Error while executing \"\u001b[0m\u001b[0;34m+\u001b[0m\u001b[0mself\u001b[0m\u001b[0;34m.\u001b[0m\u001b[0mpath\u001b[0m\u001b[0;34m)\u001b[0m\u001b[0;34m\u001b[0m\u001b[0m\n\u001b[0m\u001b[1;32m   1426\u001b[0m         \u001b[0;32mif\u001b[0m \u001b[0muse_mps\u001b[0m\u001b[0;34m:\u001b[0m\u001b[0;34m\u001b[0m\u001b[0m\n\u001b[1;32m   1427\u001b[0m             lp.status, values, reducedCosts, shadowPrices, slacks = self.readsol_MPS(\n",
      "\u001b[0;31mPulpSolverError\u001b[0m: Pulp: Error while executing /Users/nehiljain/.pyenv/versions/3.4.6/envs/py34/lib/python3.4/site-packages/pulp/solverdir/cbc/osx/64/cbc"
     ]
    }
   ],
   "source": [
    "optimization_result = prob.solve()"
   ]
  },
  {
   "cell_type": "code",
   "execution_count": 26,
   "metadata": {},
   "outputs": [
    {
     "ename": "PulpSolverError",
     "evalue": "Pulp: Error while executing /Users/nehiljain/.pyenv/versions/3.4.6/envs/py34/lib/python3.4/site-packages/pulp/solverdir/cbc/osx/64/cbc",
     "output_type": "error",
     "traceback": [
      "\u001b[0;31m---------------------------------------------------------------------------\u001b[0m",
      "\u001b[0;31mPulpSolverError\u001b[0m                           Traceback (most recent call last)",
      "\u001b[0;32m<ipython-input-26-43c12e80c81d>\u001b[0m in \u001b[0;36m<module>\u001b[0;34m()\u001b[0m\n\u001b[1;32m      1\u001b[0m \u001b[0;34m\u001b[0m\u001b[0m\n\u001b[1;32m      2\u001b[0m \u001b[0;31m#now run optimization\u001b[0m\u001b[0;34m\u001b[0m\u001b[0;34m\u001b[0m\u001b[0m\n\u001b[0;32m----> 3\u001b[0;31m \u001b[0moptimization_result\u001b[0m \u001b[0;34m=\u001b[0m \u001b[0mprob\u001b[0m\u001b[0;34m.\u001b[0m\u001b[0msolve\u001b[0m\u001b[0;34m(\u001b[0m\u001b[0;34m)\u001b[0m\u001b[0;34m\u001b[0m\u001b[0m\n\u001b[0m\u001b[1;32m      4\u001b[0m \u001b[0;32massert\u001b[0m \u001b[0moptimization_result\u001b[0m \u001b[0;34m==\u001b[0m \u001b[0mpulp\u001b[0m\u001b[0;34m.\u001b[0m\u001b[0mLpStatusOptimal\u001b[0m\u001b[0;34m\u001b[0m\u001b[0m\n\u001b[1;32m      5\u001b[0m \u001b[0mprint\u001b[0m\u001b[0;34m(\u001b[0m\u001b[0;34m\"Status:\"\u001b[0m\u001b[0;34m,\u001b[0m \u001b[0mLpStatus\u001b[0m\u001b[0;34m[\u001b[0m\u001b[0mprob\u001b[0m\u001b[0;34m.\u001b[0m\u001b[0mstatus\u001b[0m\u001b[0;34m]\u001b[0m\u001b[0;34m)\u001b[0m\u001b[0;34m\u001b[0m\u001b[0m\n",
      "\u001b[0;32m~/.pyenv/versions/3.4.6/envs/py34/lib/python3.4/site-packages/pulp/pulp.py\u001b[0m in \u001b[0;36msolve\u001b[0;34m(self, solver, **kwargs)\u001b[0m\n\u001b[1;32m   1662\u001b[0m         \u001b[0;31m#time it\u001b[0m\u001b[0;34m\u001b[0m\u001b[0;34m\u001b[0m\u001b[0m\n\u001b[1;32m   1663\u001b[0m         \u001b[0mself\u001b[0m\u001b[0;34m.\u001b[0m\u001b[0msolutionTime\u001b[0m \u001b[0;34m=\u001b[0m \u001b[0;34m-\u001b[0m\u001b[0mclock\u001b[0m\u001b[0;34m(\u001b[0m\u001b[0;34m)\u001b[0m\u001b[0;34m\u001b[0m\u001b[0m\n\u001b[0;32m-> 1664\u001b[0;31m         \u001b[0mstatus\u001b[0m \u001b[0;34m=\u001b[0m \u001b[0msolver\u001b[0m\u001b[0;34m.\u001b[0m\u001b[0mactualSolve\u001b[0m\u001b[0;34m(\u001b[0m\u001b[0mself\u001b[0m\u001b[0;34m,\u001b[0m \u001b[0;34m**\u001b[0m\u001b[0mkwargs\u001b[0m\u001b[0;34m)\u001b[0m\u001b[0;34m\u001b[0m\u001b[0m\n\u001b[0m\u001b[1;32m   1665\u001b[0m         \u001b[0mself\u001b[0m\u001b[0;34m.\u001b[0m\u001b[0msolutionTime\u001b[0m \u001b[0;34m+=\u001b[0m \u001b[0mclock\u001b[0m\u001b[0;34m(\u001b[0m\u001b[0;34m)\u001b[0m\u001b[0;34m\u001b[0m\u001b[0m\n\u001b[1;32m   1666\u001b[0m         \u001b[0mself\u001b[0m\u001b[0;34m.\u001b[0m\u001b[0mrestoreObjective\u001b[0m\u001b[0;34m(\u001b[0m\u001b[0mwasNone\u001b[0m\u001b[0;34m,\u001b[0m \u001b[0mdummyVar\u001b[0m\u001b[0;34m)\u001b[0m\u001b[0;34m\u001b[0m\u001b[0m\n",
      "\u001b[0;32m~/.pyenv/versions/3.4.6/envs/py34/lib/python3.4/site-packages/pulp/solvers.py\u001b[0m in \u001b[0;36mactualSolve\u001b[0;34m(self, lp, **kwargs)\u001b[0m\n\u001b[1;32m   1360\u001b[0m     \u001b[0;32mdef\u001b[0m \u001b[0mactualSolve\u001b[0m\u001b[0;34m(\u001b[0m\u001b[0mself\u001b[0m\u001b[0;34m,\u001b[0m \u001b[0mlp\u001b[0m\u001b[0;34m,\u001b[0m \u001b[0;34m**\u001b[0m\u001b[0mkwargs\u001b[0m\u001b[0;34m)\u001b[0m\u001b[0;34m:\u001b[0m\u001b[0;34m\u001b[0m\u001b[0m\n\u001b[1;32m   1361\u001b[0m         \u001b[0;34m\"\"\"Solve a well formulated lp problem\"\"\"\u001b[0m\u001b[0;34m\u001b[0m\u001b[0m\n\u001b[0;32m-> 1362\u001b[0;31m         \u001b[0;32mreturn\u001b[0m \u001b[0mself\u001b[0m\u001b[0;34m.\u001b[0m\u001b[0msolve_CBC\u001b[0m\u001b[0;34m(\u001b[0m\u001b[0mlp\u001b[0m\u001b[0;34m,\u001b[0m \u001b[0;34m**\u001b[0m\u001b[0mkwargs\u001b[0m\u001b[0;34m)\u001b[0m\u001b[0;34m\u001b[0m\u001b[0m\n\u001b[0m\u001b[1;32m   1363\u001b[0m \u001b[0;34m\u001b[0m\u001b[0m\n\u001b[1;32m   1364\u001b[0m     \u001b[0;32mdef\u001b[0m \u001b[0mavailable\u001b[0m\u001b[0;34m(\u001b[0m\u001b[0mself\u001b[0m\u001b[0;34m)\u001b[0m\u001b[0;34m:\u001b[0m\u001b[0;34m\u001b[0m\u001b[0m\n",
      "\u001b[0;32m~/.pyenv/versions/3.4.6/envs/py34/lib/python3.4/site-packages/pulp/solvers.py\u001b[0m in \u001b[0;36msolve_CBC\u001b[0;34m(self, lp, use_mps)\u001b[0m\n\u001b[1;32m   1423\u001b[0m                                     self.path)\n\u001b[1;32m   1424\u001b[0m         \u001b[0;32mif\u001b[0m \u001b[0;32mnot\u001b[0m \u001b[0mos\u001b[0m\u001b[0;34m.\u001b[0m\u001b[0mpath\u001b[0m\u001b[0;34m.\u001b[0m\u001b[0mexists\u001b[0m\u001b[0;34m(\u001b[0m\u001b[0mtmpSol\u001b[0m\u001b[0;34m)\u001b[0m\u001b[0;34m:\u001b[0m\u001b[0;34m\u001b[0m\u001b[0m\n\u001b[0;32m-> 1425\u001b[0;31m             \u001b[0;32mraise\u001b[0m \u001b[0mPulpSolverError\u001b[0m\u001b[0;34m(\u001b[0m\u001b[0;34m\"Pulp: Error while executing \"\u001b[0m\u001b[0;34m+\u001b[0m\u001b[0mself\u001b[0m\u001b[0;34m.\u001b[0m\u001b[0mpath\u001b[0m\u001b[0;34m)\u001b[0m\u001b[0;34m\u001b[0m\u001b[0m\n\u001b[0m\u001b[1;32m   1426\u001b[0m         \u001b[0;32mif\u001b[0m \u001b[0muse_mps\u001b[0m\u001b[0;34m:\u001b[0m\u001b[0;34m\u001b[0m\u001b[0m\n\u001b[1;32m   1427\u001b[0m             lp.status, values, reducedCosts, shadowPrices, slacks = self.readsol_MPS(\n",
      "\u001b[0;31mPulpSolverError\u001b[0m: Pulp: Error while executing /Users/nehiljain/.pyenv/versions/3.4.6/envs/py34/lib/python3.4/site-packages/pulp/solverdir/cbc/osx/64/cbc"
     ]
    }
   ],
   "source": [
    "#now run optimization\n",
    "optimization_result = prob.solve()\n",
    "assert optimization_result == pulp.LpStatusOptimal\n",
    "print(\"Status:\", LpStatus[prob.status])\n",
    "# print(\"Optimal Solution to the problem: \", value(prob.objective))\n",
    "print (\"Individual decision_variables: \")\n",
    "for v in prob.variables():\n",
    "\tprint(v.name, \"=\", v.varValue)"
   ]
  },
  {
   "cell_type": "code",
   "execution_count": null,
   "metadata": {},
   "outputs": [],
   "source": []
  }
 ],
 "metadata": {
  "kernelspec": {
   "display_name": "Python 3",
   "language": "python",
   "name": "python3"
  },
  "language_info": {
   "codemirror_mode": {
    "name": "ipython",
    "version": 3
   },
   "file_extension": ".py",
   "mimetype": "text/x-python",
   "name": "python",
   "nbconvert_exporter": "python",
   "pygments_lexer": "ipython3",
   "version": "3.4.6"
  }
 },
 "nbformat": 4,
 "nbformat_minor": 2
}
