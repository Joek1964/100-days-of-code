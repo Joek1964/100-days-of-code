{
 "cells": [
  {
   "cell_type": "markdown",
   "metadata": {},
   "source": [
    "## Linear Programming\n",
    "\n",
    "1. https://www.youtube.com/watch?v=7yZ5xxdkTb8\n",
    "2. http://benalexkeen.com/linear-programming-with-python-and-pulp-part-1/\n"
   ]
  },
  {
   "cell_type": "code",
   "execution_count": 1,
   "metadata": {},
   "outputs": [],
   "source": [
    "import numpy as np\n",
    "\n",
    "import pulp\n",
    "import pandas as pd\n",
    "import re \n",
    "import seaborn as sns\n",
    "import matplotlib.pyplot as plt\n",
    "import warnings\n",
    "warnings.filterwarnings('ignore')\n",
    "%matplotlib inline"
   ]
  },
  {
   "cell_type": "code",
   "execution_count": 2,
   "metadata": {},
   "outputs": [],
   "source": [
    "# x > 0\n",
    "x = np.linspace(0, 20, 2000)\n",
    "# y >= 2\n",
    "y1 = (x*0) + 2\n",
    "# 2y <= 25 - x\n",
    "y2 = (25-x)/2.0\n",
    "# 4y >= 2x - 8 \n",
    "y3 = (2*x-8)/4.0\n",
    "# y <= 2x - 5 \n",
    "y4 = 2 * x -5\n"
   ]
  },
  {
   "cell_type": "code",
   "execution_count": 3,
   "metadata": {},
   "outputs": [
    {
     "data": {
      "text/plain": [
       "<matplotlib.legend.Legend at 0x115fcba90>"
      ]
     },
     "execution_count": 3,
     "metadata": {},
     "output_type": "execute_result"
    },
    {
     "data": {
      "image/png": "[encoded data removed]",
      "text/plain": [
       "<matplotlib.figure.Figure at 0x115f7ab70>"
      ]
     },
     "metadata": {},
     "output_type": "display_data"
    }
   ],
   "source": [
    "plt.plot(x, y1, label=r'$y\\geq2$')\n",
    "plt.plot(x, y2, label=r'$2y\\leq25-x$')\n",
    "plt.plot(x, y3, label=r'$4y\\geq 2x - 8$')\n",
    "plt.plot(x, y4, label=r'$y\\leq 2x-5$')\n",
    "plt.xlim((0, 16))\n",
    "plt.ylim((0, 11))\n",
    "plt.xlabel(r'$x$')\n",
    "plt.ylabel(r'$y$')\n",
    "y5 = np.minimum(y2, y4)\n",
    "y6 = np.maximum(y1, y3)\n",
    "plt.fill_between(x, y5, y6, where=y5>y6, color='grey', alpha=0.5)\n",
    "plt.legend(bbox_to_anchor=(1.05, 1), loc=2, borderaxespad=0.)"
   ]
  },
  {
   "cell_type": "code",
   "execution_count": 4,
   "metadata": {},
   "outputs": [],
   "source": [
    "# Now the same thing as pulp\n",
    "lp_problem = pulp.LpProblem(\"My LP Problem\", pulp.LpMaximize)\n",
    "x = pulp.LpVariable('x', lowBound=0, cat='Continuous')\n",
    "y = pulp.LpVariable('y', lowBound=2, cat='Continuous')\n",
    "# Objective function\n",
    "lp_problem += 4 * x + 3 * y, \"Z\"\n",
    "\n",
    "# Constraints\n",
    "lp_problem += 2 * y <= 25 - x\n",
    "lp_problem += 4 * y >= 2 * x - 8\n",
    "lp_problem += y <= 2 * x - 5"
   ]
  },
  {
   "cell_type": "code",
   "execution_count": 5,
   "metadata": {},
   "outputs": [
    {
     "data": {
      "text/plain": [
       "My LP Problem:\n",
       "MAXIMIZE\n",
       "4*x + 3*y + 0\n",
       "SUBJECT TO\n",
       "_C1: x + 2 y <= 25\n",
       "\n",
       "_C2: - 2 x + 4 y >= -8\n",
       "\n",
       "_C3: - 2 x + y <= -5\n",
       "\n",
       "VARIABLES\n",
       "x Continuous\n",
       "2 <= y Continuous"
      ]
     },
     "execution_count": 5,
     "metadata": {},
     "output_type": "execute_result"
    }
   ],
   "source": [
    "lp_problem"
   ]
  },
  {
   "cell_type": "code",
   "execution_count": 6,
   "metadata": {},
   "outputs": [
    {
     "data": {
      "text/plain": [
       "'Optimal'"
      ]
     },
     "execution_count": 6,
     "metadata": {},
     "output_type": "execute_result"
    }
   ],
   "source": [
    "lp_problem.solve()\n",
    "pulp.LpStatus[lp_problem.status]"
   ]
  },
  {
   "cell_type": "code",
   "execution_count": 7,
   "metadata": {},
   "outputs": [
    {
     "name": "stdout",
     "output_type": "stream",
     "text": [
      "x = 14.5\n",
      "y = 5.25\n"
     ]
    }
   ],
   "source": [
    "for variable in lp_problem.variables():\n",
    "    print(\"{} = {}\".format(variable.name, variable.varValue))"
   ]
  },
  {
   "cell_type": "code",
   "execution_count": 8,
   "metadata": {},
   "outputs": [
    {
     "name": "stdout",
     "output_type": "stream",
     "text": [
      "73.75\n"
     ]
    }
   ],
   "source": [
    "print(pulp.value(lp_problem.objective))"
   ]
  },
  {
   "cell_type": "code",
   "execution_count": 21,
   "metadata": {},
   "outputs": [],
   "source": [
    "books_df = pd.read_csv('../reading/sample_books.csv')"
   ]
  },
  {
   "cell_type": "code",
   "execution_count": 22,
   "metadata": {},
   "outputs": [
    {
     "data": {
      "text/html": [
       "<div>\n",
       "<style scoped>\n",
       "    .dataframe tbody tr th:only-of-type {\n",
       "        vertical-align: middle;\n",
       "    }\n",
       "\n",
       "    .dataframe tbody tr th {\n",
       "        vertical-align: top;\n",
       "    }\n",
       "\n",
       "    .dataframe thead th {\n",
       "        text-align: right;\n",
       "    }\n",
       "</style>\n",
       "<table border=\"1\" class=\"dataframe\">\n",
       "  <thead>\n",
       "    <tr style=\"text-align: right;\">\n",
       "      <th></th>\n",
       "      <th>title</th>\n",
       "      <th>num_review</th>\n",
       "      <th>num_ratings</th>\n",
       "      <th>url</th>\n",
       "      <th>rating</th>\n",
       "      <th>num_pages</th>\n",
       "      <th>genres</th>\n",
       "    </tr>\n",
       "  </thead>\n",
       "  <tbody>\n",
       "    <tr>\n",
       "      <th>0</th>\n",
       "      <td>to kill a mockingbird</td>\n",
       "      <td>75722</td>\n",
       "      <td>3504156</td>\n",
       "      <td>https://www.goodreads.com/book/show/2657.To_Ki...</td>\n",
       "      <td>4.26</td>\n",
       "      <td>324</td>\n",
       "      <td>classics,fiction,historical</td>\n",
       "    </tr>\n",
       "    <tr>\n",
       "      <th>1</th>\n",
       "      <td>of mice and men</td>\n",
       "      <td>26309</td>\n",
       "      <td>1592170</td>\n",
       "      <td>https://www.goodreads.com/book/show/890.Of_Mic...</td>\n",
       "      <td>3.85</td>\n",
       "      <td>112</td>\n",
       "      <td>fiction,classics,academic</td>\n",
       "    </tr>\n",
       "    <tr>\n",
       "      <th>2</th>\n",
       "      <td>the giver</td>\n",
       "      <td>56313</td>\n",
       "      <td>1382912</td>\n",
       "      <td>https://www.goodreads.com/book/show/3636.The_G...</td>\n",
       "      <td>4.12</td>\n",
       "      <td>208</td>\n",
       "      <td>fiction,childrens,classics</td>\n",
       "    </tr>\n",
       "    <tr>\n",
       "      <th>3</th>\n",
       "      <td>alice's adventures in wonderland &amp; through the...</td>\n",
       "      <td>8160</td>\n",
       "      <td>389142</td>\n",
       "      <td>https://www.goodreads.com/book/show/24213.Alic...</td>\n",
       "      <td>4.06</td>\n",
       "      <td>239</td>\n",
       "      <td>classics,fantasy,fiction</td>\n",
       "    </tr>\n",
       "    <tr>\n",
       "      <th>4</th>\n",
       "      <td>the catcher in the rye</td>\n",
       "      <td>47062</td>\n",
       "      <td>2232015</td>\n",
       "      <td>https://www.goodreads.com/book/show/7933650-th...</td>\n",
       "      <td>3.80</td>\n",
       "      <td>230</td>\n",
       "      <td>classics,fiction,young adult</td>\n",
       "    </tr>\n",
       "  </tbody>\n",
       "</table>\n",
       "</div>"
      ],
      "text/plain": [
       "                                               title  num_review  num_ratings  \\\n",
       "0                              to kill a mockingbird       75722      3504156   \n",
       "1                                    of mice and men       26309      1592170   \n",
       "2                                          the giver       56313      1382912   \n",
       "3  alice's adventures in wonderland & through the...        8160       389142   \n",
       "4                             the catcher in the rye       47062      2232015   \n",
       "\n",
       "                                                 url  rating  num_pages  \\\n",
       "0  https://www.goodreads.com/book/show/2657.To_Ki...    4.26        324   \n",
       "1  https://www.goodreads.com/book/show/890.Of_Mic...    3.85        112   \n",
       "2  https://www.goodreads.com/book/show/3636.The_G...    4.12        208   \n",
       "3  https://www.goodreads.com/book/show/24213.Alic...    4.06        239   \n",
       "4  https://www.goodreads.com/book/show/7933650-th...    3.80        230   \n",
       "\n",
       "                         genres  \n",
       "0   classics,fiction,historical  \n",
       "1     fiction,classics,academic  \n",
       "2    fiction,childrens,classics  \n",
       "3      classics,fantasy,fiction  \n",
       "4  classics,fiction,young adult  "
      ]
     },
     "execution_count": 22,
     "metadata": {},
     "output_type": "execute_result"
    }
   ],
   "source": [
    "books_df.head()"
   ]
  },
  {
   "cell_type": "code",
   "execution_count": 20,
   "metadata": {},
   "outputs": [
    {
     "data": {
      "text/plain": [
       "<matplotlib.axes._subplots.AxesSubplot at 0x11754b668>"
      ]
     },
     "execution_count": 20,
     "metadata": {},
     "output_type": "execute_result"
    },
    {
     "data": {
      "image/png": "[encoded data removed]",
      "text/plain": [
       "<matplotlib.figure.Figure at 0x11751c320>"
      ]
     },
     "metadata": {},
     "output_type": "display_data"
    }
   ],
   "source": [
    "sns.distplot(books_df['rating'])"
   ]
  },
  {
   "cell_type": "code",
   "execution_count": 23,
   "metadata": {},
   "outputs": [
    {
     "data": {
      "text/plain": [
       "<matplotlib.axes._subplots.AxesSubplot at 0x116f55438>"
      ]
     },
     "execution_count": 23,
     "metadata": {},
     "output_type": "execute_result"
    },
    {
     "data": {
      "image/png": "[encoded data removed]",
      "text/plain": [
       "<matplotlib.figure.Figure at 0x11775ea20>"
      ]
     },
     "metadata": {},
     "output_type": "display_data"
    }
   ],
   "source": [
    "sns.distplot(books_df['num_\n",
    "# create the LP object, set up as a maximization problem --> since we want to maximize the number of books we read in a year\n",
    "prob = pulp.LpProblem('BuyingBestsellers', pulp.LpMaximize)pages'])"
   ]
  },
  {
   "cell_type": "code",
   "execution_count": 24,
   "metadata": {},
   "outputs": [],
   "source": [
    "# create the LP object\n",
    "# Maximization problem we want to maximize the number of books we read in 100 hours\n",
    "prob = pulp.LpProblem('RecommendedBooks', pulp.LpMaximize)"
   ]
  },
  {
   "cell_type": "code",
   "execution_count": null,
   "metadata": {},
   "outputs": [],
   "source": []
  }
 ],
 "metadata": {
  "kernelspec": {
   "display_name": "Python 3",
   "language": "python",
   "name": "python3"
  },
  "language_info": {
   "codemirror_mode": {
    "name": "ipython",
    "version": 3
   },
   "file_extension": ".py",
   "mimetype": "text/x-python",
   "name": "python",
   "nbconvert_exporter": "python",
   "pygments_lexer": "ipython3",
   "version": "3.4.6"
  }
 },
 "nbformat": 4,
 "nbformat_minor": 2
}
